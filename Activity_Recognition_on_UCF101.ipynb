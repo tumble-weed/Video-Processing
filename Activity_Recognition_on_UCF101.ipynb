{
  "nbformat": 4,
  "nbformat_minor": 0,
  "metadata": {
    "colab": {
      "name": "Activity Recognition on UCF101.ipynb",
      "version": "0.3.2",
      "provenance": [],
      "collapsed_sections": [],
      "include_colab_link": true
    },
    "kernelspec": {
      "name": "python3",
      "display_name": "Python 3"
    }
  },
  "cells": [
    {
      "cell_type": "markdown",
      "metadata": {
        "id": "view-in-github",
        "colab_type": "text"
      },
      "source": [
        "<a href=\"https://colab.research.google.com/github/tumble-weed/Video-Processing/blob/master/Activity_Recognition_on_UCF101.ipynb\" target=\"_parent\"><img src=\"https://colab.research.google.com/assets/colab-badge.svg\" alt=\"Open In Colab\"/></a>"
      ]
    },
    {
      "cell_type": "code",
      "metadata": {
        "id": "dmWQH6QI2Ys7",
        "colab_type": "code",
        "colab": {}
      },
      "source": [
        "_PLATFORM = 'colab'\n",
        "if _PLATFORM == 'colab':\n",
        "    !pip install --no-cache-dir -I pillow"
      ],
      "execution_count": 0,
      "outputs": []
    },
    {
      "cell_type": "code",
      "metadata": {
        "id": "DSZNP1df2U22",
        "colab_type": "code",
        "colab": {}
      },
      "source": [
        "import torch,torchvision\n",
        "import numpy as np\n",
        "from matplotlib import pyplot as plt"
      ],
      "execution_count": 0,
      "outputs": []
    },
    {
      "cell_type": "markdown",
      "metadata": {
        "id": "U7KNGCeaKSAc",
        "colab_type": "text"
      },
      "source": [
        "## Define the Models"
      ]
    },
    {
      "cell_type": "code",
      "metadata": {
        "id": "o0673Kao3nu8",
        "colab_type": "code",
        "colab": {}
      },
      "source": [
        "class Features(torch.nn.Module):\n",
        "    def __init__(self,hidden_dim):\n",
        "        resnet = torchvision.models.resnet152(pretrained=True)\n",
        "        resnet.eval()\n",
        "        layers = list(resnet.children())[:-1]\n",
        "\n",
        "        layers.append([torch.nn.Linear(2048,hidden_dim),torch.BatchNorm1d(hidden_dim)])\n",
        "        self.features = torch.nn.Sequential(*layers)\n",
        "        \n",
        "    def forward(self,x):\n",
        "        return self.features(x)"
      ],
      "execution_count": 0,
      "outputs": []
    },
    {
      "cell_type": "code",
      "metadata": {
        "id": "omQwPWAl9D24",
        "colab_type": "code",
        "colab": {}
      },
      "source": [
        "class GRU(torch.nn.Module):\n",
        "    def __init__(self,lstm_input_dim,lstm_hidden_dim,num_layers=1,is_bidirectional=False):\n",
        "        torch.nn.Module.__init__(self,)        \n",
        "        self.lstm =  torch.nn.GRU(lstm_input_dim,lstm_hidden_dim,num_layers = num_layers,bidirectional = is_bidirectional,batch_first=True)\n",
        "        self.hidden = None\n",
        "    def reset_hidden_state(self,):\n",
        "        self.hidden_state = None\n",
        "    def forward(self,x):\n",
        "        x,self.hidden_state = self.lstm(x,self.hidden_state)\n",
        "        return x"
      ],
      "execution_count": 0,
      "outputs": []
    },
    {
      "cell_type": "code",
      "metadata": {
        "id": "A0x4Fq2h2pvt",
        "colab_type": "code",
        "colab": {}
      },
      "source": [
        "class ConvLSTM(torch.nn.Module):\n",
        "    def __init__(self,features,rnn,pre_clf_dim,n_actions):\n",
        "        torch.nn.Module.__init__(self)\n",
        "        \n",
        "        self.features = features\n",
        "        self.rnn = rnn\n",
        "        #TODO momentum\n",
        "        \n",
        "        rnn_input_size = rnn.hidden_size * (2 if self.rnn.bidirectional else 1)\n",
        "        self.clf = torch.nn.Sequential([torch.nn.Linear(rnn_input_size,pre_clf_dim),\n",
        "                                       torch.nn.BatchNorm1d(pre_clf_dim),\n",
        "                                       torch.nn.ReLU(),\n",
        "                                        torch.nn.Linear(pre_clf_dim,n_actions),\n",
        "                                        torch.nn.Softmax(axis=-1),\n",
        "                                        \n",
        "                                       ])\n",
        "    def forward(self,x,hidden):\n",
        "        batch_size,time_steps,c,h,w = x.shape\n",
        "        x = x.view(batch_size*time_steps,c,h,w)\n",
        "        x = self.features(x)\n",
        "        x = x.view(batch_size,time_steps,-1)\n",
        "        x = self.rnn(x)\n",
        "        x = x[:,-1,:]# n_batches,seq_len, [{hidden_size * 2} OR {hidden_size}]\n",
        "        return self.clf(x)"
      ],
      "execution_count": 0,
      "outputs": []
    },
    {
      "cell_type": "markdown",
      "metadata": {
        "id": "QNEFIt12KU_v",
        "colab_type": "text"
      },
      "source": [
        "## Data Preprocessing"
      ]
    },
    {
      "cell_type": "code",
      "metadata": {
        "id": "vJ0_lmnegKQF",
        "colab_type": "code",
        "colab": {}
      },
      "source": [
        "#----------------------------------------------------------------------------\n",
        "# Setup the Data\n",
        "#----------------------------------------------------------------------------\n",
        "pass\n",
        "#----------------------------------------------------------------------------\n",
        "# Make the DataLoaders\n",
        "#----------------------------------------------------------------------------\n",
        "train_loader = torch.utils.data.DataLoader(dataset_path=None,\n",
        "                                          split_path=None,\n",
        "                                          split_number=None,\n",
        "                                          )\n",
        "val_loader = torch.utils.data.DataLoader()\n",
        "pass\n",
        "#----------------------------------------------------------------------------\n",
        "# Make the Model Objects\n",
        "#----------------------------------------------------------------------------\n",
        "pass\n",
        "#----------------------------------------------------------------------------\n",
        "# Optimizers\n",
        "#----------------------------------------------------------------------------\n",
        "pass\n",
        "#----------------------------------------------------------------------------\n",
        "# Training loop\n",
        "#----------------------------------------------------------------------------\n",
        "pass\n",
        "#----------------------------------------------------------------------------\n",
        "# Validation\n",
        "#----------------------------------------------------------------------------\n",
        "pass\n",
        "#----------------------------------------------------------------------------\n",
        "# Save the Checkpoint\n",
        "#----------------------------------------------------------------------------\n"
      ],
      "execution_count": 0,
      "outputs": []
    }
  ]
}